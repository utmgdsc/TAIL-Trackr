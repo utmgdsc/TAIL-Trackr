{
  "nbformat": 4,
  "nbformat_minor": 0,
  "metadata": {
    "colab": {
      "provenance": [],
      "authorship_tag": "ABX9TyONl/amgnWPC0iiT/yelaPS",
      "include_colab_link": true
    },
    "kernelspec": {
      "name": "python3",
      "display_name": "Python 3"
    },
    "language_info": {
      "name": "python"
    }
  },
  "cells": [
    {
      "cell_type": "markdown",
      "metadata": {
        "id": "view-in-github",
        "colab_type": "text"
      },
      "source": [
        "<a href=\"https://colab.research.google.com/github/utmgdsc/TAIL-Trackr/blob/bentoML/catbreed.ipynb\" target=\"_parent\"><img src=\"https://colab.research.google.com/assets/colab-badge.svg\" alt=\"Open In Colab\"/></a>"
      ]
    },
    {
      "cell_type": "code",
      "execution_count": 1,
      "metadata": {
        "colab": {
          "base_uri": "https://localhost:8080/"
        },
        "id": "AJzM-mTItiS5",
        "outputId": "1fddb714-5b9f-48ac-bd86-23dabfe2dd4b"
      },
      "outputs": [
        {
          "output_type": "stream",
          "name": "stdout",
          "text": [
            "Requirement already satisfied: kaggle in /usr/local/lib/python3.10/dist-packages (1.5.16)\n",
            "Requirement already satisfied: six>=1.10 in /usr/local/lib/python3.10/dist-packages (from kaggle) (1.16.0)\n",
            "Requirement already satisfied: certifi in /usr/local/lib/python3.10/dist-packages (from kaggle) (2023.7.22)\n",
            "Requirement already satisfied: python-dateutil in /usr/local/lib/python3.10/dist-packages (from kaggle) (2.8.2)\n",
            "Requirement already satisfied: requests in /usr/local/lib/python3.10/dist-packages (from kaggle) (2.31.0)\n",
            "Requirement already satisfied: tqdm in /usr/local/lib/python3.10/dist-packages (from kaggle) (4.66.1)\n",
            "Requirement already satisfied: python-slugify in /usr/local/lib/python3.10/dist-packages (from kaggle) (8.0.1)\n",
            "Requirement already satisfied: urllib3 in /usr/local/lib/python3.10/dist-packages (from kaggle) (2.0.7)\n",
            "Requirement already satisfied: bleach in /usr/local/lib/python3.10/dist-packages (from kaggle) (6.1.0)\n",
            "Requirement already satisfied: webencodings in /usr/local/lib/python3.10/dist-packages (from bleach->kaggle) (0.5.1)\n",
            "Requirement already satisfied: text-unidecode>=1.3 in /usr/local/lib/python3.10/dist-packages (from python-slugify->kaggle) (1.3)\n",
            "Requirement already satisfied: charset-normalizer<4,>=2 in /usr/local/lib/python3.10/dist-packages (from requests->kaggle) (3.3.1)\n",
            "Requirement already satisfied: idna<4,>=2.5 in /usr/local/lib/python3.10/dist-packages (from requests->kaggle) (3.4)\n"
          ]
        }
      ],
      "source": [
        "!pip install kaggle"
      ]
    },
    {
      "cell_type": "code",
      "source": [
        "from google.colab import files\n",
        "files.upload()"
      ],
      "metadata": {
        "colab": {
          "base_uri": "https://localhost:8080/",
          "height": 90
        },
        "id": "VsB23PR5tvIt",
        "outputId": "754e3d6e-a5bb-42c2-a152-c6220d7e9fb0"
      },
      "execution_count": 2,
      "outputs": [
        {
          "output_type": "display_data",
          "data": {
            "text/plain": [
              "<IPython.core.display.HTML object>"
            ],
            "text/html": [
              "\n",
              "     <input type=\"file\" id=\"files-6e9dfcbe-ce11-4fa6-8638-52498e0478db\" name=\"files[]\" multiple disabled\n",
              "        style=\"border:none\" />\n",
              "     <output id=\"result-6e9dfcbe-ce11-4fa6-8638-52498e0478db\">\n",
              "      Upload widget is only available when the cell has been executed in the\n",
              "      current browser session. Please rerun this cell to enable.\n",
              "      </output>\n",
              "      <script>// Copyright 2017 Google LLC\n",
              "//\n",
              "// Licensed under the Apache License, Version 2.0 (the \"License\");\n",
              "// you may not use this file except in compliance with the License.\n",
              "// You may obtain a copy of the License at\n",
              "//\n",
              "//      http://www.apache.org/licenses/LICENSE-2.0\n",
              "//\n",
              "// Unless required by applicable law or agreed to in writing, software\n",
              "// distributed under the License is distributed on an \"AS IS\" BASIS,\n",
              "// WITHOUT WARRANTIES OR CONDITIONS OF ANY KIND, either express or implied.\n",
              "// See the License for the specific language governing permissions and\n",
              "// limitations under the License.\n",
              "\n",
              "/**\n",
              " * @fileoverview Helpers for google.colab Python module.\n",
              " */\n",
              "(function(scope) {\n",
              "function span(text, styleAttributes = {}) {\n",
              "  const element = document.createElement('span');\n",
              "  element.textContent = text;\n",
              "  for (const key of Object.keys(styleAttributes)) {\n",
              "    element.style[key] = styleAttributes[key];\n",
              "  }\n",
              "  return element;\n",
              "}\n",
              "\n",
              "// Max number of bytes which will be uploaded at a time.\n",
              "const MAX_PAYLOAD_SIZE = 100 * 1024;\n",
              "\n",
              "function _uploadFiles(inputId, outputId) {\n",
              "  const steps = uploadFilesStep(inputId, outputId);\n",
              "  const outputElement = document.getElementById(outputId);\n",
              "  // Cache steps on the outputElement to make it available for the next call\n",
              "  // to uploadFilesContinue from Python.\n",
              "  outputElement.steps = steps;\n",
              "\n",
              "  return _uploadFilesContinue(outputId);\n",
              "}\n",
              "\n",
              "// This is roughly an async generator (not supported in the browser yet),\n",
              "// where there are multiple asynchronous steps and the Python side is going\n",
              "// to poll for completion of each step.\n",
              "// This uses a Promise to block the python side on completion of each step,\n",
              "// then passes the result of the previous step as the input to the next step.\n",
              "function _uploadFilesContinue(outputId) {\n",
              "  const outputElement = document.getElementById(outputId);\n",
              "  const steps = outputElement.steps;\n",
              "\n",
              "  const next = steps.next(outputElement.lastPromiseValue);\n",
              "  return Promise.resolve(next.value.promise).then((value) => {\n",
              "    // Cache the last promise value to make it available to the next\n",
              "    // step of the generator.\n",
              "    outputElement.lastPromiseValue = value;\n",
              "    return next.value.response;\n",
              "  });\n",
              "}\n",
              "\n",
              "/**\n",
              " * Generator function which is called between each async step of the upload\n",
              " * process.\n",
              " * @param {string} inputId Element ID of the input file picker element.\n",
              " * @param {string} outputId Element ID of the output display.\n",
              " * @return {!Iterable<!Object>} Iterable of next steps.\n",
              " */\n",
              "function* uploadFilesStep(inputId, outputId) {\n",
              "  const inputElement = document.getElementById(inputId);\n",
              "  inputElement.disabled = false;\n",
              "\n",
              "  const outputElement = document.getElementById(outputId);\n",
              "  outputElement.innerHTML = '';\n",
              "\n",
              "  const pickedPromise = new Promise((resolve) => {\n",
              "    inputElement.addEventListener('change', (e) => {\n",
              "      resolve(e.target.files);\n",
              "    });\n",
              "  });\n",
              "\n",
              "  const cancel = document.createElement('button');\n",
              "  inputElement.parentElement.appendChild(cancel);\n",
              "  cancel.textContent = 'Cancel upload';\n",
              "  const cancelPromise = new Promise((resolve) => {\n",
              "    cancel.onclick = () => {\n",
              "      resolve(null);\n",
              "    };\n",
              "  });\n",
              "\n",
              "  // Wait for the user to pick the files.\n",
              "  const files = yield {\n",
              "    promise: Promise.race([pickedPromise, cancelPromise]),\n",
              "    response: {\n",
              "      action: 'starting',\n",
              "    }\n",
              "  };\n",
              "\n",
              "  cancel.remove();\n",
              "\n",
              "  // Disable the input element since further picks are not allowed.\n",
              "  inputElement.disabled = true;\n",
              "\n",
              "  if (!files) {\n",
              "    return {\n",
              "      response: {\n",
              "        action: 'complete',\n",
              "      }\n",
              "    };\n",
              "  }\n",
              "\n",
              "  for (const file of files) {\n",
              "    const li = document.createElement('li');\n",
              "    li.append(span(file.name, {fontWeight: 'bold'}));\n",
              "    li.append(span(\n",
              "        `(${file.type || 'n/a'}) - ${file.size} bytes, ` +\n",
              "        `last modified: ${\n",
              "            file.lastModifiedDate ? file.lastModifiedDate.toLocaleDateString() :\n",
              "                                    'n/a'} - `));\n",
              "    const percent = span('0% done');\n",
              "    li.appendChild(percent);\n",
              "\n",
              "    outputElement.appendChild(li);\n",
              "\n",
              "    const fileDataPromise = new Promise((resolve) => {\n",
              "      const reader = new FileReader();\n",
              "      reader.onload = (e) => {\n",
              "        resolve(e.target.result);\n",
              "      };\n",
              "      reader.readAsArrayBuffer(file);\n",
              "    });\n",
              "    // Wait for the data to be ready.\n",
              "    let fileData = yield {\n",
              "      promise: fileDataPromise,\n",
              "      response: {\n",
              "        action: 'continue',\n",
              "      }\n",
              "    };\n",
              "\n",
              "    // Use a chunked sending to avoid message size limits. See b/62115660.\n",
              "    let position = 0;\n",
              "    do {\n",
              "      const length = Math.min(fileData.byteLength - position, MAX_PAYLOAD_SIZE);\n",
              "      const chunk = new Uint8Array(fileData, position, length);\n",
              "      position += length;\n",
              "\n",
              "      const base64 = btoa(String.fromCharCode.apply(null, chunk));\n",
              "      yield {\n",
              "        response: {\n",
              "          action: 'append',\n",
              "          file: file.name,\n",
              "          data: base64,\n",
              "        },\n",
              "      };\n",
              "\n",
              "      let percentDone = fileData.byteLength === 0 ?\n",
              "          100 :\n",
              "          Math.round((position / fileData.byteLength) * 100);\n",
              "      percent.textContent = `${percentDone}% done`;\n",
              "\n",
              "    } while (position < fileData.byteLength);\n",
              "  }\n",
              "\n",
              "  // All done.\n",
              "  yield {\n",
              "    response: {\n",
              "      action: 'complete',\n",
              "    }\n",
              "  };\n",
              "}\n",
              "\n",
              "scope.google = scope.google || {};\n",
              "scope.google.colab = scope.google.colab || {};\n",
              "scope.google.colab._files = {\n",
              "  _uploadFiles,\n",
              "  _uploadFilesContinue,\n",
              "};\n",
              "})(self);\n",
              "</script> "
            ]
          },
          "metadata": {}
        },
        {
          "output_type": "stream",
          "name": "stdout",
          "text": [
            "Saving kaggle.json to kaggle.json\n"
          ]
        },
        {
          "output_type": "execute_result",
          "data": {
            "text/plain": [
              "{'kaggle.json': b'{\"username\":\"devshah2021\",\"key\":\"7ca39cb5f414dd2979e6b8aa38f5f8dd\"}'}"
            ]
          },
          "metadata": {},
          "execution_count": 2
        }
      ]
    },
    {
      "cell_type": "code",
      "source": [
        "!mkdir ~/.kaggle"
      ],
      "metadata": {
        "id": "pGFDXskPt0s-"
      },
      "execution_count": 3,
      "outputs": []
    },
    {
      "cell_type": "code",
      "source": [
        "! cp kaggle.json ~/.kaggle/"
      ],
      "metadata": {
        "id": "EZhDzLAyt2Mk"
      },
      "execution_count": 4,
      "outputs": []
    },
    {
      "cell_type": "code",
      "source": [
        "! chmod 600 ~/.kaggle/kaggle.json"
      ],
      "metadata": {
        "id": "NWSUe2gwt39h"
      },
      "execution_count": 5,
      "outputs": []
    },
    {
      "cell_type": "code",
      "source": [
        "!kaggle datasets download -d imbikramsaha/cat-breeds"
      ],
      "metadata": {
        "colab": {
          "base_uri": "https://localhost:8080/"
        },
        "id": "6UKwGTMPt5Iv",
        "outputId": "caf32f08-40ae-4576-fcc4-f6b6019760ad"
      },
      "execution_count": 6,
      "outputs": [
        {
          "output_type": "stream",
          "name": "stdout",
          "text": [
            "Downloading cat-breeds.zip to /content\n",
            " 91% 190M/208M [00:01<00:00, 148MB/s]\n",
            "100% 208M/208M [00:01<00:00, 120MB/s]\n"
          ]
        }
      ]
    },
    {
      "cell_type": "code",
      "source": [
        "!unzip /content/cat-breeds.zip"
      ],
      "metadata": {
        "id": "DrBZaomat6vL"
      },
      "execution_count": null,
      "outputs": []
    },
    {
      "cell_type": "code",
      "source": [
        "import warnings\n",
        "warnings.filterwarnings('ignore')\n",
        "\n",
        "import os\n",
        "import numpy as np\n",
        "import pandas as pd\n",
        "import PIL\n",
        "import cv2\n",
        "import requests\n",
        "from io import BytesIO\n",
        "import matplotlib.pyplot as plt\n",
        "\n",
        "import tensorflow as tf\n",
        "from tensorflow.keras.preprocessing.image import ImageDataGenerator, load_img, array_to_img, img_to_array\n",
        "from tensorflow.keras import Sequential\n",
        "from tensorflow.keras.layers import GlobalAveragePooling2D, Dropout, Dense\n",
        "from tensorflow.keras.optimizers import Adam\n",
        "from tensorflow.keras.callbacks import EarlyStopping, ReduceLROnPlateau\n",
        "\n",
        "from tensorflow.keras.backend import clear_session\n",
        "\n",
        "from tensorflow.keras.applications import InceptionResNetV2,InceptionV3\n",
        "from tensorflow.keras.applications.vgg19 import VGG19\n",
        "from tensorflow.keras.applications.mobilenet_v2 import MobileNetV2\n",
        "from tensorflow.keras.applications.xception import Xception"
      ],
      "metadata": {
        "id": "Tb_ttVb1uGD8"
      },
      "execution_count": 8,
      "outputs": []
    },
    {
      "cell_type": "code",
      "source": [
        "import os\n",
        "import random\n",
        "import shutil\n",
        "\n",
        "# Define the root directory of your dataset\n",
        "root_dir = \"/content/cats-breads\"\n",
        "\n",
        "# Define the output directories for train, test, and val\n",
        "output_dir = \"/content/new\"\n",
        "\n",
        "# Define the percentage splits\n",
        "train_split = 0.7\n",
        "test_split = 0.1\n",
        "val_split = 0.2\n",
        "\n",
        "# Ensure the output directories exist\n",
        "os.makedirs(os.path.join(output_dir, \"train\"), exist_ok=True)\n",
        "os.makedirs(os.path.join(output_dir, \"test\"), exist_ok=True)\n",
        "os.makedirs(os.path.join(output_dir, \"val\"), exist_ok=True)\n",
        "\n",
        "# Loop through the cat breed folders\n",
        "for breed_folder in os.listdir(root_dir):\n",
        "    if os.path.isdir(os.path.join(root_dir, breed_folder)):\n",
        "        images = os.listdir(os.path.join(root_dir, breed_folder))\n",
        "        random.shuffle(images)\n",
        "\n",
        "        # Calculate the number of images for each split\n",
        "        total_images = len(images)\n",
        "        train_count = int(total_images * train_split)\n",
        "        test_count = int(total_images * test_split)\n",
        "        val_count = int(total_images * val_split)\n",
        "\n",
        "        # Split the images and move them to the respective folders\n",
        "        for i, image in enumerate(images):\n",
        "            source_path = os.path.join(root_dir, breed_folder, image)\n",
        "            if i < train_count:\n",
        "                destination_dir = os.path.join(output_dir, \"train\", breed_folder)\n",
        "            elif i < train_count + test_count:\n",
        "                destination_dir = os.path.join(output_dir, \"test\", breed_folder)\n",
        "            else:\n",
        "                destination_dir = os.path.join(output_dir, \"val\", breed_folder)\n",
        "\n",
        "            os.makedirs(destination_dir, exist_ok=True)\n",
        "            shutil.copy(source_path, os.path.join(destination_dir, image))\n"
      ],
      "metadata": {
        "id": "NT3QFduLuhI4"
      },
      "execution_count": 9,
      "outputs": []
    },
    {
      "cell_type": "code",
      "source": [
        "TRAIN_DIR = '/content/new/train'\n",
        "VAL_DIR = '/content/new/val'\n",
        "TEST_DIR = '/content/new/test'\n",
        "\n",
        "DIMS = (224,224)\n",
        "IMG_SIZE = 224\n",
        "BATCH_SIZE = 32\n",
        "SEED = 42"
      ],
      "metadata": {
        "id": "4nKJro8VvInd"
      },
      "execution_count": 10,
      "outputs": []
    },
    {
      "cell_type": "code",
      "source": [
        "data_gen = ImageDataGenerator(rescale=1/255)"
      ],
      "metadata": {
        "id": "MQmz24kTviZN"
      },
      "execution_count": 11,
      "outputs": []
    },
    {
      "cell_type": "code",
      "source": [
        "train_data = data_gen.flow_from_directory(batch_size=BATCH_SIZE, directory=TRAIN_DIR, shuffle=True,\n",
        "                                            target_size=DIMS, class_mode='categorical')\n",
        "\n",
        "val_data = data_gen.flow_from_directory(batch_size=BATCH_SIZE, directory=VAL_DIR, shuffle=True,\n",
        "                                            target_size=DIMS, class_mode='categorical')\n",
        "\n",
        "test_data = data_gen.flow_from_directory(batch_size=BATCH_SIZE, directory=TEST_DIR, shuffle=True,\n",
        "                                            target_size=DIMS, class_mode='categorical')"
      ],
      "metadata": {
        "colab": {
          "base_uri": "https://localhost:8080/"
        },
        "id": "cShwqOYuvlEE",
        "outputId": "c206d40a-dfe1-4b8a-89de-b4a191fc86ec"
      },
      "execution_count": 12,
      "outputs": [
        {
          "output_type": "stream",
          "name": "stdout",
          "text": [
            "Found 1671 images belonging to 12 classes.\n",
            "Found 479 images belonging to 12 classes.\n",
            "Found 238 images belonging to 12 classes.\n"
          ]
        }
      ]
    },
    {
      "cell_type": "code",
      "source": [
        "label_mapper = np.asarray(list(train_data.class_indices.keys()))\n",
        "label_mapper"
      ],
      "metadata": {
        "colab": {
          "base_uri": "https://localhost:8080/"
        },
        "id": "Z93zmq79vnRY",
        "outputId": "e7c37e73-4518-4681-cd63-bd631f0ba851"
      },
      "execution_count": 13,
      "outputs": [
        {
          "output_type": "execute_result",
          "data": {
            "text/plain": [
              "array(['Abyssinian', 'Bengal', 'Birman', 'Bombay', 'British_Shorthair',\n",
              "       'Egyptian_Mau', 'Maine_Coon', 'Persian', 'Ragdoll', 'Russian_Blue',\n",
              "       'Siamese', 'Sphynx'], dtype='<U17')"
            ]
          },
          "metadata": {},
          "execution_count": 13
        }
      ]
    },
    {
      "cell_type": "code",
      "source": [
        "IMG_SHAPE = (224,224,3)\n",
        "base_model = InceptionV3(input_shape=IMG_SHAPE, include_top=False, weights='imagenet', classes=70)"
      ],
      "metadata": {
        "colab": {
          "base_uri": "https://localhost:8080/"
        },
        "id": "CwjGiIeivpDB",
        "outputId": "83c2e6e4-33be-480c-cac9-aec2c15de588"
      },
      "execution_count": 14,
      "outputs": [
        {
          "output_type": "stream",
          "name": "stdout",
          "text": [
            "Downloading data from https://storage.googleapis.com/tensorflow/keras-applications/inception_v3/inception_v3_weights_tf_dim_ordering_tf_kernels_notop.h5\n",
            "87910968/87910968 [==============================] - 0s 0us/step\n"
          ]
        }
      ]
    },
    {
      "cell_type": "code",
      "source": [
        "base_model.trainable = False\n",
        "\n",
        "model = Sequential()\n",
        "model.add(base_model)\n",
        "model.add(Dropout(0.2))\n",
        "model.add(GlobalAveragePooling2D())\n",
        "model.add(Dense(12,activation='softmax'))\n",
        "\n",
        "model.compile(optimizer=Adam(learning_rate=0.01), loss='categorical_crossentropy', metrics=['accuracy'])\n",
        "model.summary()"
      ],
      "metadata": {
        "colab": {
          "base_uri": "https://localhost:8080/"
        },
        "id": "go38ebfpvpDm",
        "outputId": "f0b6d037-2a9f-4454-c1cd-3aaeb02635d6"
      },
      "execution_count": 19,
      "outputs": [
        {
          "output_type": "stream",
          "name": "stdout",
          "text": [
            "Model: \"sequential_1\"\n",
            "_________________________________________________________________\n",
            " Layer (type)                Output Shape              Param #   \n",
            "=================================================================\n",
            " inception_v3 (Functional)   (None, 5, 5, 2048)        21802784  \n",
            "                                                                 \n",
            " dropout_1 (Dropout)         (None, 5, 5, 2048)        0         \n",
            "                                                                 \n",
            " global_average_pooling2d_1  (None, 2048)              0         \n",
            "  (GlobalAveragePooling2D)                                       \n",
            "                                                                 \n",
            " dense_1 (Dense)             (None, 12)                24588     \n",
            "                                                                 \n",
            "=================================================================\n",
            "Total params: 21827372 (83.26 MB)\n",
            "Trainable params: 24588 (96.05 KB)\n",
            "Non-trainable params: 21802784 (83.17 MB)\n",
            "_________________________________________________________________\n"
          ]
        }
      ]
    },
    {
      "cell_type": "code",
      "source": [
        "reduce_lr = ReduceLROnPlateau(monitor='val_loss', patience=3, verbose=2, factor=0.001)\n",
        "es = EarlyStopping(monitor='val_loss', verbose=2, patience=5, min_delta=0.001)"
      ],
      "metadata": {
        "id": "DzC4WbGGvsjx"
      },
      "execution_count": 20,
      "outputs": []
    },
    {
      "cell_type": "code",
      "source": [
        "results = model.fit(train_data, validation_data=val_data,\n",
        "                epochs=10, verbose=1, callbacks=[reduce_lr,es])"
      ],
      "metadata": {
        "colab": {
          "base_uri": "https://localhost:8080/"
        },
        "id": "opdMdRrPvuTG",
        "outputId": "49402c09-b446-4d57-83a5-3c966d6e9712"
      },
      "execution_count": 21,
      "outputs": [
        {
          "output_type": "stream",
          "name": "stdout",
          "text": [
            "Epoch 1/10\n",
            "53/53 [==============================] - 277s 5s/step - loss: 2.5869 - accuracy: 0.5990 - val_loss: 1.2213 - val_accuracy: 0.7432 - lr: 0.0100\n",
            "Epoch 2/10\n",
            "53/53 [==============================] - 220s 4s/step - loss: 0.7641 - accuracy: 0.8270 - val_loss: 1.1716 - val_accuracy: 0.7453 - lr: 0.0100\n",
            "Epoch 3/10\n",
            "53/53 [==============================] - 259s 5s/step - loss: 0.4423 - accuracy: 0.8743 - val_loss: 1.2907 - val_accuracy: 0.7474 - lr: 0.0100\n",
            "Epoch 4/10\n",
            "53/53 [==============================] - 252s 5s/step - loss: 0.3115 - accuracy: 0.9031 - val_loss: 1.0442 - val_accuracy: 0.7766 - lr: 0.0100\n",
            "Epoch 5/10\n",
            "53/53 [==============================] - 257s 5s/step - loss: 0.2867 - accuracy: 0.9054 - val_loss: 0.9701 - val_accuracy: 0.8017 - lr: 0.0100\n",
            "Epoch 6/10\n",
            "53/53 [==============================] - 254s 5s/step - loss: 0.1853 - accuracy: 0.9390 - val_loss: 1.1417 - val_accuracy: 0.7850 - lr: 0.0100\n",
            "Epoch 7/10\n",
            "53/53 [==============================] - 254s 5s/step - loss: 0.3516 - accuracy: 0.8995 - val_loss: 1.0081 - val_accuracy: 0.7975 - lr: 0.0100\n",
            "Epoch 8/10\n",
            "53/53 [==============================] - ETA: 0s - loss: 0.2048 - accuracy: 0.9384\n",
            "Epoch 8: ReduceLROnPlateau reducing learning rate to 9.999999776482582e-06.\n",
            "53/53 [==============================] - 255s 5s/step - loss: 0.2048 - accuracy: 0.9384 - val_loss: 1.1783 - val_accuracy: 0.8372 - lr: 0.0100\n",
            "Epoch 9/10\n",
            "53/53 [==============================] - 253s 5s/step - loss: 0.1047 - accuracy: 0.9647 - val_loss: 1.1684 - val_accuracy: 0.8351 - lr: 1.0000e-05\n",
            "Epoch 10/10\n",
            "53/53 [==============================] - 218s 4s/step - loss: 0.0984 - accuracy: 0.9647 - val_loss: 1.1576 - val_accuracy: 0.8372 - lr: 1.0000e-05\n",
            "Epoch 10: early stopping\n"
          ]
        }
      ]
    },
    {
      "cell_type": "code",
      "source": [
        "model.evaluate(val_data)"
      ],
      "metadata": {
        "id": "x32qbUN56GCs",
        "outputId": "8cba0c58-9072-4bf6-9fc1-19ea6c49f63b",
        "colab": {
          "base_uri": "https://localhost:8080/"
        }
      },
      "execution_count": 22,
      "outputs": [
        {
          "output_type": "stream",
          "name": "stdout",
          "text": [
            "15/15 [==============================] - 50s 3s/step - loss: 1.1576 - accuracy: 0.8372\n"
          ]
        },
        {
          "output_type": "execute_result",
          "data": {
            "text/plain": [
              "[1.157595157623291, 0.8371607661247253]"
            ]
          },
          "metadata": {},
          "execution_count": 22
        }
      ]
    },
    {
      "cell_type": "code",
      "source": [
        "model.save('catmodel.h5')"
      ],
      "metadata": {
        "id": "QU52bO5Z6Ijt"
      },
      "execution_count": 23,
      "outputs": []
    },
    {
      "cell_type": "code",
      "source": [
        "\n",
        "def predictor(img):\n",
        "    display(img)\n",
        "    arr = img_to_array(img)\n",
        "    arr = arr/255.0\n",
        "    arr = np.expand_dims(arr,0)\n",
        "    res = model.predict(arr)\n",
        "    print(res.shape)\n",
        "    idx = res.argmax()\n",
        "    return label_mapper[idx], res[0][idx]"
      ],
      "metadata": {
        "id": "0zSw088v6iF6"
      },
      "execution_count": 24,
      "outputs": []
    },
    {
      "cell_type": "code",
      "source": [
        "url = 'https://encrypted-tbn1.gstatic.com/images?q=tbn:ANd9GcST4vFqkon9beoNKaEGwJsaFJTR7l61rtMhYJgvHEWuc0QT5ajF'\n",
        "response = requests.get(url)\n",
        "img = load_img(BytesIO(response.content), target_size=DIMS)\n",
        "\n",
        "val,prob = predictor(img)\n",
        "val,prob"
      ],
      "metadata": {
        "id": "sjUifHP06jpl",
        "outputId": "4f6c43ce-b521-4ee3-a189-1fd5428c17d7",
        "colab": {
          "base_uri": "https://localhost:8080/",
          "height": 293
        }
      },
      "execution_count": 25,
      "outputs": [
        {
          "output_type": "display_data",
          "data": {
            "text/plain": [
              "<PIL.Image.Image image mode=RGB size=224x224>"
            ],
            "image/png": "[encoded data removed]"
          },
          "metadata": {}
        },
        {
          "output_type": "stream",
          "name": "stdout",
          "text": [
            "1/1 [==============================] - 2s 2s/step\n",
            "(1, 12)\n"
          ]
        },
        {
          "output_type": "execute_result",
          "data": {
            "text/plain": [
              "('Siamese', 1.0)"
            ]
          },
          "metadata": {},
          "execution_count": 25
        }
      ]
    }
  ]
}